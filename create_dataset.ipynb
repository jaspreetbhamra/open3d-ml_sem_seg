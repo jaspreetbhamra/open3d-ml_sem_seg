{
 "cells": [
  {
   "cell_type": "code",
   "execution_count": 2,
   "id": "a6ced57a",
   "metadata": {},
   "outputs": [],
   "source": [
    "import numpy as np\n",
    "import pandas as pd"
   ]
  },
  {
   "cell_type": "code",
   "execution_count": 43,
   "id": "9b8765b6",
   "metadata": {},
   "outputs": [
    {
     "data": {
      "text/plain": [
       "array([[ 14.08      , -20.24      ,   0.79      , ..., 102.        ,\n",
       "        125.        ,  12.        ],\n",
       "       [ 14.018     , -19.76      ,   0.78800005, ..., 198.6       ,\n",
       "        196.4       ,  12.        ],\n",
       "       [ 14.104287  , -20.175714  ,   0.81214297, ..., 113.78571   ,\n",
       "        217.35715   ,  12.        ],\n",
       "       ...,\n",
       "       [ 11.103     , -19.651999  ,   3.0400002 , ..., 161.4       ,\n",
       "        170.2       ,   0.        ],\n",
       "       [ 10.054997  , -22.01832   ,   2.580727  , ..., 141.72728   ,\n",
       "        150.54546   ,   5.        ],\n",
       "       [ 12.059001  , -17.72      ,   0.32500002, ..., 100.8       ,\n",
       "         41.8       ,   7.        ]], dtype=float32)"
      ]
     },
     "execution_count": 43,
     "metadata": {},
     "output_type": "execute_result"
    }
   ],
   "source": [
    "file = './data/data.npy'\n",
    "data = np.load(file)\n",
    "data"
   ]
  },
  {
   "cell_type": "code",
   "execution_count": 39,
   "id": "329e8835",
   "metadata": {},
   "outputs": [
    {
     "data": {
      "text/plain": [
       "array([ 14.08, -20.24,   0.79,  87.  , 102.  , 125.  ,  12.  ],\n",
       "      dtype=float32)"
      ]
     },
     "execution_count": 39,
     "metadata": {},
     "output_type": "execute_result"
    }
   ],
   "source": [
    "data[0]"
   ]
  },
  {
   "cell_type": "code",
   "execution_count": null,
   "id": "84e83555",
   "metadata": {},
   "outputs": [],
   "source": []
  },
  {
   "cell_type": "code",
   "execution_count": null,
   "id": "7b1453e4",
   "metadata": {},
   "outputs": [],
   "source": []
  },
  {
   "cell_type": "code",
   "execution_count": 44,
   "id": "bb0eefa8",
   "metadata": {},
   "outputs": [
    {
     "data": {
      "text/html": [
       "<div>\n",
       "<style scoped>\n",
       "    .dataframe tbody tr th:only-of-type {\n",
       "        vertical-align: middle;\n",
       "    }\n",
       "\n",
       "    .dataframe tbody tr th {\n",
       "        vertical-align: top;\n",
       "    }\n",
       "\n",
       "    .dataframe thead th {\n",
       "        text-align: right;\n",
       "    }\n",
       "</style>\n",
       "<table border=\"1\" class=\"dataframe\">\n",
       "  <thead>\n",
       "    <tr style=\"text-align: right;\">\n",
       "      <th></th>\n",
       "      <th>0</th>\n",
       "      <th>1</th>\n",
       "      <th>2</th>\n",
       "      <th>3</th>\n",
       "      <th>4</th>\n",
       "      <th>5</th>\n",
       "      <th>6</th>\n",
       "    </tr>\n",
       "  </thead>\n",
       "  <tbody>\n",
       "    <tr>\n",
       "      <th>0</th>\n",
       "      <td>14.080000</td>\n",
       "      <td>-20.240000</td>\n",
       "      <td>0.790000</td>\n",
       "      <td>87.000000</td>\n",
       "      <td>102.000000</td>\n",
       "      <td>125.000000</td>\n",
       "      <td>12.0</td>\n",
       "    </tr>\n",
       "    <tr>\n",
       "      <th>1</th>\n",
       "      <td>14.018000</td>\n",
       "      <td>-19.760000</td>\n",
       "      <td>0.788000</td>\n",
       "      <td>196.600006</td>\n",
       "      <td>198.600006</td>\n",
       "      <td>196.399994</td>\n",
       "      <td>12.0</td>\n",
       "    </tr>\n",
       "    <tr>\n",
       "      <th>2</th>\n",
       "      <td>14.104287</td>\n",
       "      <td>-20.175714</td>\n",
       "      <td>0.812143</td>\n",
       "      <td>52.285713</td>\n",
       "      <td>113.785713</td>\n",
       "      <td>217.357147</td>\n",
       "      <td>12.0</td>\n",
       "    </tr>\n",
       "    <tr>\n",
       "      <th>3</th>\n",
       "      <td>14.050834</td>\n",
       "      <td>-20.093336</td>\n",
       "      <td>0.830000</td>\n",
       "      <td>135.583328</td>\n",
       "      <td>165.333328</td>\n",
       "      <td>208.083328</td>\n",
       "      <td>12.0</td>\n",
       "    </tr>\n",
       "    <tr>\n",
       "      <th>4</th>\n",
       "      <td>14.018573</td>\n",
       "      <td>-20.094288</td>\n",
       "      <td>0.824286</td>\n",
       "      <td>152.095245</td>\n",
       "      <td>175.952377</td>\n",
       "      <td>205.000000</td>\n",
       "      <td>12.0</td>\n",
       "    </tr>\n",
       "  </tbody>\n",
       "</table>\n",
       "</div>"
      ],
      "text/plain": [
       "           0          1         2           3           4           5     6\n",
       "0  14.080000 -20.240000  0.790000   87.000000  102.000000  125.000000  12.0\n",
       "1  14.018000 -19.760000  0.788000  196.600006  198.600006  196.399994  12.0\n",
       "2  14.104287 -20.175714  0.812143   52.285713  113.785713  217.357147  12.0\n",
       "3  14.050834 -20.093336  0.830000  135.583328  165.333328  208.083328  12.0\n",
       "4  14.018573 -20.094288  0.824286  152.095245  175.952377  205.000000  12.0"
      ]
     },
     "execution_count": 44,
     "metadata": {},
     "output_type": "execute_result"
    }
   ],
   "source": [
    "data_df = pd.DataFrame(data)\n",
    "data_df.head()"
   ]
  },
  {
   "cell_type": "code",
   "execution_count": 22,
   "id": "749cf74a",
   "metadata": {},
   "outputs": [
    {
     "data": {
      "text/plain": [
       "array([12.,  7.,  1.,  2., 10.,  6.,  4., 11.,  8.,  5.,  9.,  0.],\n",
       "      dtype=float32)"
      ]
     },
     "execution_count": 22,
     "metadata": {},
     "output_type": "execute_result"
    }
   ],
   "source": [
    "data_df[6].isna().sum()\n",
    "data_df[6].unique()\n",
    "# some categories not present in this sample dataset"
   ]
  },
  {
   "cell_type": "code",
   "execution_count": 25,
   "id": "1c0deeef",
   "metadata": {},
   "outputs": [
    {
     "data": {
      "text/html": [
       "<div>\n",
       "<style scoped>\n",
       "    .dataframe tbody tr th:only-of-type {\n",
       "        vertical-align: middle;\n",
       "    }\n",
       "\n",
       "    .dataframe tbody tr th {\n",
       "        vertical-align: top;\n",
       "    }\n",
       "\n",
       "    .dataframe thead th {\n",
       "        text-align: right;\n",
       "    }\n",
       "</style>\n",
       "<table border=\"1\" class=\"dataframe\">\n",
       "  <thead>\n",
       "    <tr style=\"text-align: right;\">\n",
       "      <th></th>\n",
       "      <th>0</th>\n",
       "      <th>1</th>\n",
       "      <th>2</th>\n",
       "    </tr>\n",
       "  </thead>\n",
       "  <tbody>\n",
       "    <tr>\n",
       "      <th>0</th>\n",
       "      <td>14.080000</td>\n",
       "      <td>-20.240000</td>\n",
       "      <td>0.790000</td>\n",
       "    </tr>\n",
       "    <tr>\n",
       "      <th>1</th>\n",
       "      <td>14.018000</td>\n",
       "      <td>-19.760000</td>\n",
       "      <td>0.788000</td>\n",
       "    </tr>\n",
       "    <tr>\n",
       "      <th>2</th>\n",
       "      <td>14.104287</td>\n",
       "      <td>-20.175714</td>\n",
       "      <td>0.812143</td>\n",
       "    </tr>\n",
       "    <tr>\n",
       "      <th>3</th>\n",
       "      <td>14.050834</td>\n",
       "      <td>-20.093336</td>\n",
       "      <td>0.830000</td>\n",
       "    </tr>\n",
       "    <tr>\n",
       "      <th>4</th>\n",
       "      <td>14.018573</td>\n",
       "      <td>-20.094288</td>\n",
       "      <td>0.824286</td>\n",
       "    </tr>\n",
       "  </tbody>\n",
       "</table>\n",
       "</div>"
      ],
      "text/plain": [
       "           0          1         2\n",
       "0  14.080000 -20.240000  0.790000\n",
       "1  14.018000 -19.760000  0.788000\n",
       "2  14.104287 -20.175714  0.812143\n",
       "3  14.050834 -20.093336  0.830000\n",
       "4  14.018573 -20.094288  0.824286"
      ]
     },
     "execution_count": 25,
     "metadata": {},
     "output_type": "execute_result"
    }
   ],
   "source": [
    "# coords = data_df[[0,1,2]]\n",
    "# coords.head()"
   ]
  },
  {
   "cell_type": "code",
   "execution_count": 29,
   "id": "a6fed209",
   "metadata": {},
   "outputs": [
    {
     "data": {
      "text/html": [
       "<div>\n",
       "<style scoped>\n",
       "    .dataframe tbody tr th:only-of-type {\n",
       "        vertical-align: middle;\n",
       "    }\n",
       "\n",
       "    .dataframe tbody tr th {\n",
       "        vertical-align: top;\n",
       "    }\n",
       "\n",
       "    .dataframe thead th {\n",
       "        text-align: right;\n",
       "    }\n",
       "</style>\n",
       "<table border=\"1\" class=\"dataframe\">\n",
       "  <thead>\n",
       "    <tr style=\"text-align: right;\">\n",
       "      <th></th>\n",
       "      <th>3</th>\n",
       "      <th>4</th>\n",
       "      <th>5</th>\n",
       "    </tr>\n",
       "  </thead>\n",
       "  <tbody>\n",
       "    <tr>\n",
       "      <th>0</th>\n",
       "      <td>87.000000</td>\n",
       "      <td>102.000000</td>\n",
       "      <td>125.000000</td>\n",
       "    </tr>\n",
       "    <tr>\n",
       "      <th>1</th>\n",
       "      <td>196.600006</td>\n",
       "      <td>198.600006</td>\n",
       "      <td>196.399994</td>\n",
       "    </tr>\n",
       "    <tr>\n",
       "      <th>2</th>\n",
       "      <td>52.285713</td>\n",
       "      <td>113.785713</td>\n",
       "      <td>217.357147</td>\n",
       "    </tr>\n",
       "    <tr>\n",
       "      <th>3</th>\n",
       "      <td>135.583328</td>\n",
       "      <td>165.333328</td>\n",
       "      <td>208.083328</td>\n",
       "    </tr>\n",
       "    <tr>\n",
       "      <th>4</th>\n",
       "      <td>152.095245</td>\n",
       "      <td>175.952377</td>\n",
       "      <td>205.000000</td>\n",
       "    </tr>\n",
       "  </tbody>\n",
       "</table>\n",
       "</div>"
      ],
      "text/plain": [
       "            3           4           5\n",
       "0   87.000000  102.000000  125.000000\n",
       "1  196.600006  198.600006  196.399994\n",
       "2   52.285713  113.785713  217.357147\n",
       "3  135.583328  165.333328  208.083328\n",
       "4  152.095245  175.952377  205.000000"
      ]
     },
     "execution_count": 29,
     "metadata": {},
     "output_type": "execute_result"
    }
   ],
   "source": [
    "# pixel_values = data_df[[3, 4, 5]]\n",
    "# pixel_values.head()"
   ]
  },
  {
   "cell_type": "code",
   "execution_count": 30,
   "id": "966ecc80",
   "metadata": {},
   "outputs": [
    {
     "name": "stdout",
     "output_type": "stream",
     "text": [
      "Max pixel values: 255.0, 255.0, 255.0\n",
      "Min pixel values: 4.714285850524902, 5.0, 0.0\n",
      "Max pixel values: 1.0, 1.0, 1.0\n",
      "Min pixel values: 0.01848739549225452, 0.0196078431372549, 0.0\n"
     ]
    }
   ],
   "source": [
    "# # normalize pixel values\n",
    "# print (f\"Max pixel values: {pixel_values[3].max()}, {pixel_values[4].max()}, {pixel_values[5].max()}\")\n",
    "# print (f\"Min pixel values: {pixel_values[3].min()}, {pixel_values[4].min()}, {pixel_values[5].min()}\")\n",
    "# pixel_values = pixel_values / 255.0\n",
    "# print (f\"Max pixel values: {pixel_values[3].max()}, {pixel_values[4].max()}, {pixel_values[5].max()}\")\n",
    "# print (f\"Min pixel values: {pixel_values[3].min()}, {pixel_values[4].min()}, {pixel_values[5].min()}\")"
   ]
  },
  {
   "cell_type": "code",
   "execution_count": 33,
   "id": "bca499bf",
   "metadata": {},
   "outputs": [
    {
     "data": {
      "text/plain": [
       "0    12.0\n",
       "1    12.0\n",
       "2    12.0\n",
       "3    12.0\n",
       "4    12.0\n",
       "Name: 6, dtype: float32"
      ]
     },
     "execution_count": 33,
     "metadata": {},
     "output_type": "execute_result"
    }
   ],
   "source": [
    "# labels = data_df[6]\n",
    "# labels.head()"
   ]
  },
  {
   "cell_type": "code",
   "execution_count": null,
   "id": "4e15540e",
   "metadata": {},
   "outputs": [],
   "source": []
  },
  {
   "cell_type": "code",
   "execution_count": 45,
   "id": "0e6bb853",
   "metadata": {},
   "outputs": [
    {
     "name": "stdout",
     "output_type": "stream",
     "text": [
      "Max pixel values: 255.0, 255.0, 255.0\n",
      "Min pixel values: 4.714285850524902, 5.0, 0.0\n",
      "Max pixel values: 2.571589226074063, 2.5669072529309367, 2.502662025147529\n",
      "Min pixel values: -2.448472632085461, -2.3445418733713064, -2.165490748887357\n"
     ]
    },
    {
     "data": {
      "text/html": [
       "<div>\n",
       "<style scoped>\n",
       "    .dataframe tbody tr th:only-of-type {\n",
       "        vertical-align: middle;\n",
       "    }\n",
       "\n",
       "    .dataframe tbody tr th {\n",
       "        vertical-align: top;\n",
       "    }\n",
       "\n",
       "    .dataframe thead th {\n",
       "        text-align: right;\n",
       "    }\n",
       "</style>\n",
       "<table border=\"1\" class=\"dataframe\">\n",
       "  <thead>\n",
       "    <tr style=\"text-align: right;\">\n",
       "      <th></th>\n",
       "      <th>0</th>\n",
       "      <th>1</th>\n",
       "      <th>2</th>\n",
       "      <th>3</th>\n",
       "      <th>4</th>\n",
       "      <th>5</th>\n",
       "      <th>6</th>\n",
       "    </tr>\n",
       "  </thead>\n",
       "  <tbody>\n",
       "    <tr>\n",
       "      <th>0</th>\n",
       "      <td>14.080000</td>\n",
       "      <td>-20.240000</td>\n",
       "      <td>0.790000</td>\n",
       "      <td>-0.798041</td>\n",
       "      <td>-0.438900</td>\n",
       "      <td>0.122819</td>\n",
       "      <td>12.0</td>\n",
       "    </tr>\n",
       "    <tr>\n",
       "      <th>1</th>\n",
       "      <td>14.018000</td>\n",
       "      <td>-19.760000</td>\n",
       "      <td>0.788000</td>\n",
       "      <td>1.400242</td>\n",
       "      <td>1.458884</td>\n",
       "      <td>1.429902</td>\n",
       "      <td>12.0</td>\n",
       "    </tr>\n",
       "    <tr>\n",
       "      <th>2</th>\n",
       "      <td>14.104287</td>\n",
       "      <td>-20.175714</td>\n",
       "      <td>0.812143</td>\n",
       "      <td>-1.494317</td>\n",
       "      <td>-0.207360</td>\n",
       "      <td>1.813554</td>\n",
       "      <td>12.0</td>\n",
       "    </tr>\n",
       "    <tr>\n",
       "      <th>3</th>\n",
       "      <td>14.050834</td>\n",
       "      <td>-20.093336</td>\n",
       "      <td>0.830000</td>\n",
       "      <td>0.176410</td>\n",
       "      <td>0.805334</td>\n",
       "      <td>1.643783</td>\n",
       "      <td>12.0</td>\n",
       "    </tr>\n",
       "    <tr>\n",
       "      <th>4</th>\n",
       "      <td>14.018573</td>\n",
       "      <td>-20.094288</td>\n",
       "      <td>0.824286</td>\n",
       "      <td>0.507595</td>\n",
       "      <td>1.013954</td>\n",
       "      <td>1.587338</td>\n",
       "      <td>12.0</td>\n",
       "    </tr>\n",
       "  </tbody>\n",
       "</table>\n",
       "</div>"
      ],
      "text/plain": [
       "           0          1         2         3         4         5     6\n",
       "0  14.080000 -20.240000  0.790000 -0.798041 -0.438900  0.122819  12.0\n",
       "1  14.018000 -19.760000  0.788000  1.400242  1.458884  1.429902  12.0\n",
       "2  14.104287 -20.175714  0.812143 -1.494317 -0.207360  1.813554  12.0\n",
       "3  14.050834 -20.093336  0.830000  0.176410  0.805334  1.643783  12.0\n",
       "4  14.018573 -20.094288  0.824286  0.507595  1.013954  1.587338  12.0"
      ]
     },
     "execution_count": 45,
     "metadata": {},
     "output_type": "execute_result"
    }
   ],
   "source": [
    "# Normalize Pixel Values - Z-score\n",
    "\n",
    "# data_df[[3, 4, 5]] = data_df[[3, 4, 5]] / 255.0\n",
    "print (f\"Max pixel values: {data_df[3].max()}, {data_df[4].max()}, {data_df[5].max()}\")\n",
    "print (f\"Min pixel values: {data_df[3].min()}, {data_df[4].min()}, {data_df[5].min()}\")\n",
    "\n",
    "data_df[3] = (data_df[3] - data_df[3].mean()) / data_df[3].std()\n",
    "data_df[4] = (data_df[4] - data_df[4].mean()) / data_df[4].std()\n",
    "data_df[5] = (data_df[5] - data_df[5].mean()) / data_df[5].std()\n",
    "\n",
    "print (f\"Max pixel values: {data_df[3].max()}, {data_df[4].max()}, {data_df[5].max()}\")\n",
    "print (f\"Min pixel values: {data_df[3].min()}, {data_df[4].min()}, {data_df[5].min()}\")\n",
    "\n",
    "data_df.head()"
   ]
  },
  {
   "cell_type": "code",
   "execution_count": null,
   "id": "41769e3f",
   "metadata": {},
   "outputs": [],
   "source": []
  },
  {
   "cell_type": "code",
   "execution_count": 35,
   "id": "fa32c619",
   "metadata": {},
   "outputs": [
    {
     "name": "stdout",
     "output_type": "stream",
     "text": [
      "Coords: (111620, 3)\n",
      "Pixel Values: (111620, 3)\n",
      "Labels: (111620,)\n"
     ]
    }
   ],
   "source": [
    "# # Sanity Check\n",
    "# print (f\"Coords: {coords.shape}\")\n",
    "# print (f\"Pixel Values: {pixel_values.shape}\")\n",
    "# print (f\"Labels: {labels.shape}\")"
   ]
  },
  {
   "cell_type": "code",
   "execution_count": 46,
   "id": "f3cd60a2",
   "metadata": {},
   "outputs": [],
   "source": [
    "data_df.to_pickle('data/data.pkl')"
   ]
  },
  {
   "cell_type": "code",
   "execution_count": null,
   "id": "7406c0d5",
   "metadata": {},
   "outputs": [],
   "source": []
  }
 ],
 "metadata": {
  "kernelspec": {
   "display_name": "Python 3",
   "language": "python",
   "name": "python3"
  },
  "language_info": {
   "codemirror_mode": {
    "name": "ipython",
    "version": 3
   },
   "file_extension": ".py",
   "mimetype": "text/x-python",
   "name": "python",
   "nbconvert_exporter": "python",
   "pygments_lexer": "ipython3",
   "version": "3.8.8"
  }
 },
 "nbformat": 4,
 "nbformat_minor": 5
}
